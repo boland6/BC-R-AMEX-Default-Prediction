{
 "cells": [
  {
   "cell_type": "code",
   "execution_count": 5,
   "metadata": {},
   "outputs": [],
   "source": [
    "#print multiple outputs from a cell\n",
    "get_ipython().ast_node_interactivity = 'all'"
   ]
  },
  {
   "cell_type": "code",
   "execution_count": 9,
   "metadata": {},
   "outputs": [],
   "source": [
    "import pandas as pd\n",
    "import random\n",
    "\n",
    "def sample_train_data(file_path, sample_size):\n",
    "    # Load the dataset\n",
    "    try:\n",
    "        data = pd.read_csv(file_path)\n",
    "\n",
    "        # Check if the sample size is greater than the dataset\n",
    "        if sample_size > len(data):\n",
    "            print(f\"Sample size {sample_size} is larger than the dataset size {len(data)}. Returning the full dataset.\")\n",
    "            return data\n",
    "\n",
    "        # Sample the data\n",
    "        sampled_data = data.sample(n=sample_size)\n",
    "        return sampled_data\n",
    "    except Exception as e:\n",
    "        print(f\"An error occurred: {e}\")\n",
    "        return None\n",
    "\n",
    "# Example usage\n",
    "sampled_df = sample_train_data('train_data.csv', 100)  # Adjust the file path and sample size as needed\n",
    "print(sampled_df.head())  # Print the first few rows of the sampled dataframe\n",
    "\n"
   ]
  }
 ],
 "metadata": {
  "kernelspec": {
   "display_name": "Python 3",
   "language": "python",
   "name": "python3"
  },
  "language_info": {
   "codemirror_mode": {
    "name": "ipython",
    "version": 3
   },
   "file_extension": ".py",
   "mimetype": "text/x-python",
   "name": "python",
   "nbconvert_exporter": "python",
   "pygments_lexer": "ipython3",
   "version": "3.9.6"
  }
 },
 "nbformat": 4,
 "nbformat_minor": 2
}
